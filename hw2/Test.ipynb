{
 "cells": [
  {
   "cell_type": "code",
   "execution_count": 8,
   "metadata": {},
   "outputs": [],
   "source": [
    "from hw2 import shred, get_parameter_vectors"
   ]
  },
  {
   "cell_type": "code",
   "execution_count": 9,
   "metadata": {},
   "outputs": [
    {
     "name": "stdout",
     "output_type": "stream",
     "text": [
      "Testing letter0.txt:\n"
     ]
    },
    {
     "ename": "ValueError",
     "evalue": "too many values to unpack (expected 2)",
     "output_type": "error",
     "traceback": [
      "\u001b[0;31m---------------------------------------------------------------------------\u001b[0m",
      "\u001b[0;31mValueError\u001b[0m                                Traceback (most recent call last)",
      "Cell \u001b[0;32mIn[9], line 11\u001b[0m\n\u001b[1;32m      8\u001b[0m \u001b[38;5;28mprint\u001b[39m(\u001b[38;5;124mf\u001b[39m\u001b[38;5;124m\"\u001b[39m\u001b[38;5;124mTesting letter\u001b[39m\u001b[38;5;132;01m{\u001b[39;00mi\u001b[38;5;132;01m}\u001b[39;00m\u001b[38;5;124m.txt:\u001b[39m\u001b[38;5;124m\"\u001b[39m)\n\u001b[1;32m     10\u001b[0m \u001b[38;5;66;03m# Get the letter counts\u001b[39;00m\n\u001b[0;32m---> 11\u001b[0m X \u001b[38;5;241m=\u001b[39m \u001b[43mshred\u001b[49m\u001b[43m(\u001b[49m\u001b[43minput_file\u001b[49m\u001b[43m)\u001b[49m\n\u001b[1;32m     13\u001b[0m \u001b[38;5;66;03m# Print Q1 output\u001b[39;00m\n\u001b[1;32m     14\u001b[0m \u001b[38;5;28mprint\u001b[39m(\u001b[38;5;124m\"\u001b[39m\u001b[38;5;124mQ1\u001b[39m\u001b[38;5;124m\"\u001b[39m)\n",
      "File \u001b[0;32m~/Documents/Career/School/UW-Madison/24 Fall/CS540/hw2/hw2.py:45\u001b[0m, in \u001b[0;36mshred\u001b[0;34m(filename)\u001b[0m\n\u001b[1;32m     41\u001b[0m \u001b[38;5;28;01mwith\u001b[39;00m \u001b[38;5;28mopen\u001b[39m (filename,encoding\u001b[38;5;241m=\u001b[39m\u001b[38;5;124m'\u001b[39m\u001b[38;5;124mutf-8\u001b[39m\u001b[38;5;124m'\u001b[39m) \u001b[38;5;28;01mas\u001b[39;00m f:\n\u001b[1;32m     42\u001b[0m     \u001b[38;5;28;01mfor\u001b[39;00m line \u001b[38;5;129;01min\u001b[39;00m f:\n\u001b[1;32m     43\u001b[0m         \u001b[38;5;66;03m#splitting the line on space character\u001b[39;00m\n\u001b[1;32m     44\u001b[0m         \u001b[38;5;66;03m#line[0] is the character and line[1] is the probability\u001b[39;00m\n\u001b[0;32m---> 45\u001b[0m         char,prob\u001b[38;5;241m=\u001b[39mline\u001b[38;5;241m.\u001b[39mstrip()\u001b[38;5;241m.\u001b[39msplit(\u001b[38;5;124m\"\u001b[39m\u001b[38;5;124m \u001b[39m\u001b[38;5;124m\"\u001b[39m)\n\u001b[1;32m     46\u001b[0m         \u001b[38;5;66;03m#adding the character and its probability to the dictionary\u001b[39;00m\n\u001b[1;32m     47\u001b[0m         X[char]\u001b[38;5;241m=\u001b[39m\u001b[38;5;28mfloat\u001b[39m(prob) \u001b[38;5;66;03m#converting probability to float\u001b[39;00m\n",
      "\u001b[0;31mValueError\u001b[0m: too many values to unpack (expected 2)"
     ]
    }
   ],
   "source": [
    "import os\n",
    "\n",
    "samples_dir = 'samples'\n",
    "for i in range(5):  # We have 5 sample letters (0 to 4)\n",
    "    input_file = os.path.join(samples_dir, f'letter{i}.txt')\n",
    "    output_file = os.path.join(samples_dir, f'letter{i}_out.txt')\n",
    "    \n",
    "    print(f\"Testing letter{i}.txt:\")\n",
    "    \n",
    "    # Get the letter counts\n",
    "    X = shred(input_file)\n",
    "    \n",
    "    # Print Q1 output\n",
    "    print(\"Q1\")\n",
    "    for char in 'ABCDEFGHIJKLMNOPQRSTUVWXYZ':\n",
    "        print(f\"{char} {X[char]}\")\n",
    "    \n",
    "    # Get language models\n",
    "    e, s = get_parameter_vectors()\n",
    "    \n",
    "    # Calculate log-likelihoods\n",
    "    log_likelihood_english = sum(X[chr(65+i)] * math.log(e[i]) for i in range(26))\n",
    "    log_likelihood_spanish = sum(X[chr(65+i)] * math.log(s[i]) for i in range(26))\n",
    "    \n",
    "    # Print Q2 output\n",
    "    print(\"\\nQ2\")\n",
    "    print(f\"English: {log_likelihood_english}\")\n",
    "    print(f\"Spanish: {log_likelihood_spanish}\")\n",
    "    \n",
    "    if log_likelihood_english > log_likelihood_spanish:\n",
    "        print(\"The letter is most likely in English\")\n",
    "    else:\n",
    "        print(\"The letter is most likely in Spanish\")\n",
    "    \n",
    "    print(\"\\n\" + \"=\"*50 + \"\\n\")"
   ]
  },
  {
   "cell_type": "code",
   "execution_count": null,
   "metadata": {},
   "outputs": [],
   "source": []
  }
 ],
 "metadata": {
  "kernelspec": {
   "display_name": "Python 3",
   "language": "python",
   "name": "python3"
  },
  "language_info": {
   "codemirror_mode": {
    "name": "ipython",
    "version": 3
   },
   "file_extension": ".py",
   "mimetype": "text/x-python",
   "name": "python",
   "nbconvert_exporter": "python",
   "pygments_lexer": "ipython3",
   "version": "3.11.4"
  }
 },
 "nbformat": 4,
 "nbformat_minor": 2
}
