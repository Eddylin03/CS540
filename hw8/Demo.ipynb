{
 "cells": [
  {
   "cell_type": "code",
   "execution_count": 10,
   "metadata": {},
   "outputs": [],
   "source": [
    "# Import the functions from funny_puzzle.py\n",
    "from funny_puzzle import calculate_manhattan_distance, calculate_heuristic\n",
    "from funny_puzzle import get_goal_state, get_successors, print_succ, solve"
   ]
  },
  {
   "cell_type": "markdown",
   "metadata": {},
   "source": [
    "Let's first test the basic functionality:\n"
   ]
  },
  {
   "cell_type": "code",
   "execution_count": 11,
   "metadata": {},
   "outputs": [
    {
     "name": "stdout",
     "output_type": "stream",
     "text": [
      "Initial puzzle state:\n",
      "Current state:\n",
      "[4, 3, 0]\n",
      "[5, 1, 6]\n",
      "[7, 2, 0]\n",
      "\n",
      "Heuristic value: 7\n",
      "\n",
      "Goal state:\n",
      "Current state:\n",
      "[1, 2, 3]\n",
      "[4, 5, 6]\n",
      "[7, 0, 0]\n",
      "\n",
      "Heuristic value: 0\n"
     ]
    }
   ],
   "source": [
    "def visualize_puzzle(state):\n",
    "    \"\"\"Helper function to visualize puzzle state\"\"\"\n",
    "    print(\"Current state:\")\n",
    "    for i in range(0, 9, 3):\n",
    "        print(state[i:i+3])\n",
    "    print(\"\\nHeuristic value:\", calculate_heuristic(state))\n",
    "\n",
    "# Test case from assignment\n",
    "test_state = [4,3,0,5,1,6,7,2,0]\n",
    "print(\"Initial puzzle state:\")\n",
    "visualize_puzzle(test_state)\n",
    "\n",
    "print(\"\\nGoal state:\")\n",
    "goal = get_goal_state(test_state)\n",
    "visualize_puzzle(goal)"
   ]
  },
  {
   "cell_type": "markdown",
   "metadata": {},
   "source": [
    "Let's see the successor states:"
   ]
  },
  {
   "cell_type": "code",
   "execution_count": 12,
   "metadata": {},
   "outputs": [
    {
     "name": "stdout",
     "output_type": "stream",
     "text": [
      "Successor states for initial state:\n",
      "[4, 0, 3, 5, 1, 6, 7, 2, 0] h=6\n",
      "[4, 3, 0, 5, 1, 0, 7, 2, 6] h=8\n",
      "[4, 3, 0, 5, 1, 6, 7, 0, 2] h=8\n",
      "[4, 3, 6, 5, 1, 0, 7, 2, 0] h=8\n"
     ]
    }
   ],
   "source": [
    "print(\"Successor states for initial state:\")\n",
    "print_succ(test_state)"
   ]
  },
  {
   "cell_type": "code",
   "execution_count": 13,
   "metadata": {},
   "outputs": [
    {
     "name": "stdout",
     "output_type": "stream",
     "text": [
      "Solving puzzle:\n",
      "True\n",
      "[4, 3, 0, 5, 1, 6, 7, 2, 0] h=7 moves: 0\n",
      "[4, 0, 3, 5, 1, 6, 7, 2, 0] h=6 moves: 1\n",
      "[4, 1, 3, 5, 0, 6, 7, 2, 0] h=5 moves: 2\n",
      "[4, 1, 3, 0, 5, 6, 7, 2, 0] h=4 moves: 3\n",
      "[0, 1, 3, 4, 5, 6, 7, 2, 0] h=3 moves: 4\n",
      "[0, 1, 3, 4, 5, 0, 7, 2, 6] h=4 moves: 5\n",
      "[0, 1, 3, 4, 0, 5, 7, 2, 6] h=5 moves: 6\n",
      "[0, 1, 3, 4, 2, 5, 7, 0, 6] h=4 moves: 7\n",
      "[1, 0, 3, 4, 2, 5, 7, 0, 6] h=3 moves: 8\n",
      "[1, 2, 3, 4, 0, 5, 7, 0, 6] h=2 moves: 9\n",
      "[1, 2, 3, 4, 5, 0, 7, 0, 6] h=1 moves: 10\n",
      "[1, 2, 3, 4, 5, 6, 7, 0, 0] h=0 moves: 11\n",
      "Max queue length: 91\n"
     ]
    }
   ],
   "source": [
    "print(\"Solving puzzle:\")\n",
    "solve(test_state)"
   ]
  },
  {
   "cell_type": "markdown",
   "metadata": {},
   "source": [
    "Let's try some other test cases:"
   ]
  },
  {
   "cell_type": "code",
   "execution_count": 14,
   "metadata": {},
   "outputs": [
    {
     "name": "stdout",
     "output_type": "stream",
     "text": [
      "\n",
      "Test Case 1: 6-tile puzzle\n",
      "Current state:\n",
      "[1, 2, 3]\n",
      "[4, 5, 6]\n",
      "[0, 0, 0]\n",
      "\n",
      "Heuristic value: 0\n",
      "\n",
      "Successors:\n",
      "[1, 2, 3, 0, 5, 6, 4, 0, 0] h=1\n",
      "[1, 2, 3, 4, 0, 6, 0, 5, 0] h=1\n",
      "[1, 2, 3, 4, 5, 0, 0, 0, 6] h=1\n",
      "\n",
      "Solution:\n",
      "True\n",
      "[1, 2, 3, 4, 5, 6, 0, 0, 0] h=0 moves: 0\n",
      "Max queue length: 1\n",
      "\n",
      "Test Case 2: Already solved puzzle\n",
      "True\n",
      "[1, 2, 3, 4, 5, 6, 7, 0, 0] h=0 moves: 0\n",
      "Max queue length: 1\n",
      "\n",
      "Test Case 3: Different configuration\n",
      "Current state:\n",
      "[2, 5, 1]\n",
      "[4, 0, 6]\n",
      "[7, 0, 3]\n",
      "\n",
      "Heuristic value: 6\n",
      "\n",
      "Successors:\n",
      "[2, 0, 1, 4, 5, 6, 7, 0, 3] h=5\n",
      "[2, 5, 1, 0, 4, 6, 7, 0, 3] h=7\n",
      "[2, 5, 1, 4, 0, 6, 0, 7, 3] h=7\n",
      "[2, 5, 1, 4, 0, 6, 7, 3, 0] h=7\n",
      "[2, 5, 1, 4, 6, 0, 7, 0, 3] h=7\n",
      "\n",
      "Solution:\n",
      "True\n",
      "[2, 5, 1, 4, 0, 6, 7, 0, 3] h=6 moves: 0\n",
      "[2, 0, 1, 4, 5, 6, 7, 0, 3] h=5 moves: 1\n",
      "[0, 2, 1, 4, 5, 6, 7, 0, 3] h=4 moves: 2\n",
      "[0, 2, 1, 4, 0, 6, 7, 5, 3] h=5 moves: 3\n",
      "[0, 0, 1, 4, 2, 6, 7, 5, 3] h=6 moves: 4\n",
      "[0, 1, 0, 4, 2, 6, 7, 5, 3] h=5 moves: 5\n",
      "[1, 0, 0, 4, 2, 6, 7, 5, 3] h=4 moves: 6\n",
      "[1, 2, 0, 4, 0, 6, 7, 5, 3] h=3 moves: 7\n",
      "[1, 2, 0, 4, 6, 0, 7, 5, 3] h=4 moves: 8\n",
      "[1, 2, 0, 4, 6, 3, 7, 5, 0] h=3 moves: 9\n",
      "[1, 2, 3, 4, 6, 0, 7, 5, 0] h=2 moves: 10\n",
      "[1, 2, 3, 4, 0, 6, 7, 5, 0] h=1 moves: 11\n",
      "[1, 2, 3, 4, 5, 6, 7, 0, 0] h=0 moves: 12\n",
      "Max queue length: 262\n"
     ]
    }
   ],
   "source": [
    "\n",
    "# Test Case 1: 6-tile puzzle\n",
    "print(\"\\nTest Case 1: 6-tile puzzle\")\n",
    "state_6tile = [1,2,3,4,5,6,0,0,0]\n",
    "visualize_puzzle(state_6tile)\n",
    "print(\"\\nSuccessors:\")\n",
    "print_succ(state_6tile)\n",
    "print(\"\\nSolution:\")\n",
    "solve(state_6tile)\n",
    "\n",
    "# Test Case 2: Already solved puzzle\n",
    "print(\"\\nTest Case 2: Already solved puzzle\")\n",
    "solved_state = [1,2,3,4,5,6,7,0,0]\n",
    "solve(solved_state)\n",
    "\n",
    "# Test Case 3: Different configuration\n",
    "print(\"\\nTest Case 3: Different configuration\")\n",
    "test_state2 = [2,5,1,4,0,6,7,0,3]\n",
    "visualize_puzzle(test_state2)\n",
    "print(\"\\nSuccessors:\")\n",
    "print_succ(test_state2)\n",
    "print(\"\\nSolution:\")\n",
    "solve(test_state2)"
   ]
  },
  {
   "cell_type": "markdown",
   "metadata": {},
   "source": [
    "Let's examine the heuristic calculation:"
   ]
  },
  {
   "cell_type": "code",
   "execution_count": 15,
   "metadata": {},
   "outputs": [
    {
     "name": "stdout",
     "output_type": "stream",
     "text": [
      "State: [4, 3, 0, 5, 1, 6, 7, 2, 0]\n",
      "Number of tiles: 7\n",
      "\n",
      "Manhattan distance for each tile:\n",
      "Tile 4 at position (0,0):\n",
      "  Goal position: (1,0)\n",
      "  Manhattan distance: 1\n",
      "Tile 3 at position (0,1):\n",
      "  Goal position: (0,2)\n",
      "  Manhattan distance: 1\n",
      "Tile 5 at position (1,0):\n",
      "  Goal position: (1,1)\n",
      "  Manhattan distance: 1\n",
      "Tile 1 at position (1,1):\n",
      "  Goal position: (0,0)\n",
      "  Manhattan distance: 2\n",
      "Tile 6 at position (1,2):\n",
      "  Goal position: (1,2)\n",
      "  Manhattan distance: 0\n",
      "Tile 7 at position (2,0):\n",
      "  Goal position: (2,0)\n",
      "  Manhattan distance: 0\n",
      "Tile 2 at position (2,1):\n",
      "  Goal position: (0,1)\n",
      "  Manhattan distance: 2\n",
      "\n",
      "Total heuristic value: 7\n"
     ]
    }
   ],
   "source": [
    "def explain_heuristic(state):\n",
    "    \"\"\"Helper function to explain heuristic calculation\"\"\"\n",
    "    print(f\"State: {state}\")\n",
    "    num_tiles = sum(1 for x in state if x != 0)\n",
    "    print(f\"Number of tiles: {num_tiles}\")\n",
    "    \n",
    "    print(\"\\nManhattan distance for each tile:\")\n",
    "    for i, val in enumerate(state):\n",
    "        if val != 0:\n",
    "            dist = calculate_manhattan_distance(i, val, num_tiles)\n",
    "            curr_row, curr_col = i // 3, i % 3\n",
    "            goal_row, goal_col = (val - 1) // 3, (val - 1) % 3\n",
    "            print(f\"Tile {val} at position ({curr_row},{curr_col}):\")\n",
    "            print(f\"  Goal position: ({goal_row},{goal_col})\")\n",
    "            print(f\"  Manhattan distance: {dist}\")\n",
    "    \n",
    "    total = calculate_heuristic(state)\n",
    "    print(f\"\\nTotal heuristic value: {total}\")\n",
    "\n",
    "# Analyze example state\n",
    "explain_heuristic(test_state)"
   ]
  },
  {
   "cell_type": "markdown",
   "metadata": {},
   "source": [
    "Let's examine solution paths:"
   ]
  },
  {
   "cell_type": "code",
   "execution_count": 16,
   "metadata": {},
   "outputs": [
    {
     "name": "stdout",
     "output_type": "stream",
     "text": [
      "\n",
      "Test Case 1:\n",
      "Initial state:\n",
      "Current state:\n",
      "[4, 3, 0]\n",
      "[5, 1, 6]\n",
      "[7, 2, 0]\n",
      "\n",
      "Heuristic value: 7\n",
      "\n",
      "Solving...\n",
      "True\n",
      "[4, 3, 0, 5, 1, 6, 7, 2, 0] h=7 moves: 0\n",
      "[4, 0, 3, 5, 1, 6, 7, 2, 0] h=6 moves: 1\n",
      "[4, 1, 3, 5, 0, 6, 7, 2, 0] h=5 moves: 2\n",
      "[4, 1, 3, 0, 5, 6, 7, 2, 0] h=4 moves: 3\n",
      "[0, 1, 3, 4, 5, 6, 7, 2, 0] h=3 moves: 4\n",
      "[0, 1, 3, 4, 5, 0, 7, 2, 6] h=4 moves: 5\n",
      "[0, 1, 3, 4, 0, 5, 7, 2, 6] h=5 moves: 6\n",
      "[0, 1, 3, 4, 2, 5, 7, 0, 6] h=4 moves: 7\n",
      "[1, 0, 3, 4, 2, 5, 7, 0, 6] h=3 moves: 8\n",
      "[1, 2, 3, 4, 0, 5, 7, 0, 6] h=2 moves: 9\n",
      "[1, 2, 3, 4, 5, 0, 7, 0, 6] h=1 moves: 10\n",
      "[1, 2, 3, 4, 5, 6, 7, 0, 0] h=0 moves: 11\n",
      "Max queue length: 91\n",
      "\n",
      "Test Case 2:\n",
      "Initial state:\n",
      "Current state:\n",
      "[2, 5, 1]\n",
      "[4, 0, 6]\n",
      "[7, 0, 3]\n",
      "\n",
      "Heuristic value: 6\n",
      "\n",
      "Solving...\n",
      "True\n",
      "[2, 5, 1, 4, 0, 6, 7, 0, 3] h=6 moves: 0\n",
      "[2, 0, 1, 4, 5, 6, 7, 0, 3] h=5 moves: 1\n",
      "[0, 2, 1, 4, 5, 6, 7, 0, 3] h=4 moves: 2\n",
      "[0, 2, 1, 4, 0, 6, 7, 5, 3] h=5 moves: 3\n",
      "[0, 0, 1, 4, 2, 6, 7, 5, 3] h=6 moves: 4\n",
      "[0, 1, 0, 4, 2, 6, 7, 5, 3] h=5 moves: 5\n",
      "[1, 0, 0, 4, 2, 6, 7, 5, 3] h=4 moves: 6\n",
      "[1, 2, 0, 4, 0, 6, 7, 5, 3] h=3 moves: 7\n",
      "[1, 2, 0, 4, 6, 0, 7, 5, 3] h=4 moves: 8\n",
      "[1, 2, 0, 4, 6, 3, 7, 5, 0] h=3 moves: 9\n",
      "[1, 2, 3, 4, 6, 0, 7, 5, 0] h=2 moves: 10\n",
      "[1, 2, 3, 4, 0, 6, 7, 5, 0] h=1 moves: 11\n",
      "[1, 2, 3, 4, 5, 6, 7, 0, 0] h=0 moves: 12\n",
      "Max queue length: 262\n",
      "\n",
      "Test Case 3:\n",
      "Initial state:\n",
      "Current state:\n",
      "[1, 2, 3]\n",
      "[4, 5, 0]\n",
      "[7, 6, 0]\n",
      "\n",
      "Heuristic value: 2\n",
      "\n",
      "Solving...\n",
      "True\n",
      "[1, 2, 3, 4, 5, 0, 7, 6, 0] h=2 moves: 0\n",
      "[1, 2, 3, 4, 5, 0, 7, 0, 6] h=1 moves: 1\n",
      "[1, 2, 3, 4, 5, 6, 7, 0, 0] h=0 moves: 2\n",
      "Max queue length: 7\n"
     ]
    }
   ],
   "source": [
    "def analyze_solution(state):\n",
    "    \"\"\"Helper function to analyze solution path\"\"\"\n",
    "    print(\"Initial state:\")\n",
    "    visualize_puzzle(state)\n",
    "    \n",
    "    print(\"\\nSolving...\")\n",
    "    solve(state)\n",
    "\n",
    "# Test with a few different states\n",
    "test_cases = [\n",
    "    [4,3,0,5,1,6,7,2,0],  # Original test case\n",
    "    [2,5,1,4,0,6,7,0,3],  # Alternative configuration\n",
    "    [1,2,3,4,5,0,7,6,0]   # Nearly solved\n",
    "]\n",
    "\n",
    "for i, test_state in enumerate(test_cases):\n",
    "    print(f\"\\nTest Case {i+1}:\")\n",
    "    analyze_solution(test_state)"
   ]
  },
  {
   "cell_type": "markdown",
   "metadata": {},
   "source": []
  }
 ],
 "metadata": {
  "kernelspec": {
   "display_name": "Python 3",
   "language": "python",
   "name": "python3"
  },
  "language_info": {
   "codemirror_mode": {
    "name": "ipython",
    "version": 3
   },
   "file_extension": ".py",
   "mimetype": "text/x-python",
   "name": "python",
   "nbconvert_exporter": "python",
   "pygments_lexer": "ipython3",
   "version": "3.12.0"
  }
 },
 "nbformat": 4,
 "nbformat_minor": 2
}
